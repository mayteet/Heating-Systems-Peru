{
 "cells": [
  {
   "cell_type": "code",
   "execution_count": 53,
   "metadata": {},
   "outputs": [],
   "source": [
    "import pandas as pd\n",
    "\n",
    "#Ponemos la información de entrada\n",
    "\n",
    "#Datos de los captadores\n",
    "\n",
    "A=1.9     #Área de un colector solar\n",
    "N= 6      #Número de captadores\n",
    "sc= A*N   #Área predimensionada\n",
    "\n",
    "\n",
    "#Datos del colector\n",
    "n_1= 0.696 #Eficiencia óptica del colector\n",
    "n_2= 0.94  #Modificador del ángulo de incidencia\n",
    "n_3= 0.95 #Factor de corrección del conjunto intercambiador\n",
    "U= 4.821   #Coeficiente de pérdidas lineales\n",
    "\n",
    "F_R_t= n_1*n_2*n_3\n",
    "F_R_U_l= n_3*U\n",
    "\n",
    "\n",
    "#Producción de CO2\n",
    "CO2_ratio= 0.41    #CO2equi/kWh\n",
    "\n",
    "#Costos\n",
    "sol_ratio= 0.77   #soles/kWh\n",
    "\n",
    "#Importamos datos mensuales de la temperatura de agua de red, radiación media diaria por unidad de superficie, Factor de corrección sobre superficie inclinada\n",
    "t_mensual= pd.read_csv(\"input_month.csv\", sep=\";\")\n",
    "\n",
    "t_mensual[\"X\"]=F_R_U_l*3600*(100-t_mensual[\"Temp_outdoor\"])*t_mensual[\"Sun_hours\"]*t_mensual[\"Days_month\"]*sc/(t_mensual[\"Thermal_demand_MJ\"]*1000000)\n",
    "t_mensual[\"Y\"]= n_1*n_3*n_2*t_mensual[\"Rad_enegy_MJ\"]*t_mensual[\"Days_month\"]*1000000*sc/(t_mensual[\"Thermal_demand_MJ\"]*1000000)\n",
    "t_mensual[\"f_value\"]=1.020*t_mensual[\"Y\"]-0.065*t_mensual[\"X\"]-0.245*t_mensual[\"Y\"].pow(2)+ 0.0018*t_mensual[\"X\"]+0.0215*t_mensual[\"Y\"].pow(3)\n",
    "t_mensual[\"aporte_solar_MJ\"]= t_mensual[\"f_value\"]*t_mensual[\"Thermal_demand_MJ\"]\n",
    "t_mensual[\"rendimiento\"]= t_mensual[\"aporte_solar_MJ\"]/(t_mensual[\"Rad_enegy_MJ\"]*t_mensual[\"Days_month\"]*sc)\n",
    "t_mensual[\"backup_cost_SOL\"]= (t_mensual[\"Thermal_demand_MJ\"]-t_mensual[\"aporte_solar_MJ\"])*sol_ratio*0.2777\n",
    "t_mensual[\"CO2_kg\"]= (t_mensual[\"Thermal_demand_MJ\"]-t_mensual[\"aporte_solar_MJ\"])*CO2_ratio\n",
    "t_mensual[\"Ahorro\"]=(t_mensual[\"Thermal_demand_MJ\"]-t_mensual[\"aporte_solar_MJ\"])*sol_ratio*0.277"
   ]
  },
  {
   "cell_type": "code",
   "execution_count": 56,
   "metadata": {},
   "outputs": [],
   "source": [
    "f_value=[]\n",
    "aporte_solar_MJ=[]\n",
    "rendimiento=[]\n",
    "backup_SOL=[]\n",
    "CO2_kg=[]\n",
    "ahorro=[]\n",
    "i= 1\n",
    "\n",
    "for i in range (20):\n",
    "    i=i+1\n"
   ]
  },
  {
   "cell_type": "code",
   "execution_count": 57,
   "metadata": {},
   "outputs": [
    {
     "data": {
      "text/plain": [
       "20"
      ]
     },
     "execution_count": 57,
     "metadata": {},
     "output_type": "execute_result"
    }
   ],
   "source": [
    "i"
   ]
  }
 ],
 "metadata": {
  "kernelspec": {
   "display_name": "Python 3",
   "language": "python",
   "name": "python3"
  },
  "language_info": {
   "codemirror_mode": {
    "name": "ipython",
    "version": 3
   },
   "file_extension": ".py",
   "mimetype": "text/x-python",
   "name": "python",
   "nbconvert_exporter": "python",
   "pygments_lexer": "ipython3",
   "version": "3.11.0"
  },
  "orig_nbformat": 4
 },
 "nbformat": 4,
 "nbformat_minor": 2
}
